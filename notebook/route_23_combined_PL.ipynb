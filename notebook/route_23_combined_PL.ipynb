{
 "cells": [
  {
   "cell_type": "code",
   "execution_count": 1,
   "id": "59a5ff08",
   "metadata": {},
   "outputs": [],
   "source": [
    "from shapely.geometry import Point\n",
    "import pandas as pd\n",
    "import geopandas as gpd\n",
    "import requests\n",
    "import json\n",
    "import numpy as np\n",
    "import matplotlib.pyplot as plt\n",
    "import folium\n",
    "import re\n",
    "from folium.plugins import MarkerCluster\n",
    "from folium.plugins import FastMarkerCluster\n",
    "import pickle"
   ]
  },
  {
   "cell_type": "code",
   "execution_count": 2,
   "id": "22fd75ed",
   "metadata": {},
   "outputs": [],
   "source": [
    "slow_am_school = gpd.read_file('../data/slow_am_school.geojson')"
   ]
  },
  {
   "cell_type": "code",
   "execution_count": 3,
   "id": "8356e17e",
   "metadata": {},
   "outputs": [],
   "source": [
    "slow_am_summer= gpd.read_file('../data/slow_am_summer.geojson')"
   ]
  },
  {
   "cell_type": "code",
   "execution_count": 4,
   "id": "edfa38df",
   "metadata": {},
   "outputs": [],
   "source": [
    "slow_do_in_school = gpd.read_file('../data/slow_do_in_school.geojson')"
   ]
  },
  {
   "cell_type": "code",
   "execution_count": 5,
   "id": "61e8fac5",
   "metadata": {},
   "outputs": [],
   "source": [
    "slow_do_summer = gpd.read_file('../data/slow_do_summer.geojson')"
   ]
  },
  {
   "cell_type": "code",
   "execution_count": 6,
   "id": "3109b62c",
   "metadata": {},
   "outputs": [],
   "source": [
    "slow_emi_school = gpd.read_file('../data/slow_emi_school.geojson')"
   ]
  },
  {
   "cell_type": "code",
   "execution_count": 7,
   "id": "b746ecd4",
   "metadata": {},
   "outputs": [],
   "source": [
    "slow_emi_summer = gpd.read_file('../data/slow_emi_summer.geojson')"
   ]
  },
  {
   "cell_type": "code",
   "execution_count": 8,
   "id": "b82fbc20",
   "metadata": {},
   "outputs": [],
   "source": [
    "slow_emo_summer = gpd.read_file('../data/slow_lni_summer.geojson')"
   ]
  },
  {
   "cell_type": "code",
   "execution_count": 9,
   "id": "a2aa845a",
   "metadata": {},
   "outputs": [],
   "source": [
    "slow_lni_school = gpd.read_file('../data/slow_lni_school.geojson')"
   ]
  },
  {
   "cell_type": "code",
   "execution_count": 10,
   "id": "0d4019e4",
   "metadata": {},
   "outputs": [],
   "source": [
    "slow_lni_summer = gpd.read_file('../data/slow_lni_summer.geojson')"
   ]
  },
  {
   "cell_type": "code",
   "execution_count": 11,
   "id": "e0164aed",
   "metadata": {},
   "outputs": [],
   "source": [
    "slow_lno_inschool = gpd.read_file('../data/slow_lno_inschool.geojson')"
   ]
  },
  {
   "cell_type": "code",
   "execution_count": 12,
   "id": "de097fb4",
   "metadata": {},
   "outputs": [],
   "source": [
    "slow_lno_summer = gpd.read_file('../data/slow_lno_summer.geojson')"
   ]
  },
  {
   "cell_type": "code",
   "execution_count": null,
   "id": "b2fbe650",
   "metadata": {},
   "outputs": [],
   "source": []
  },
  {
   "cell_type": "code",
   "execution_count": 13,
   "id": "7105039c",
   "metadata": {},
   "outputs": [],
   "source": [
    "slow_lni_summer = gpd.read_file('../data/slow_lni_summer.geojson')"
   ]
  },
  {
   "cell_type": "code",
   "execution_count": 21,
   "id": "32284ac5",
   "metadata": {},
   "outputs": [
    {
     "ename": "NameError",
     "evalue": "name 'inbound_stop_details' is not defined",
     "output_type": "error",
     "traceback": [
      "\u001b[0;31m---------------------------------------------------------------------------\u001b[0m",
      "\u001b[0;31mNameError\u001b[0m                                 Traceback (most recent call last)",
      "Input \u001b[0;32mIn [21]\u001b[0m, in \u001b[0;36m<cell line: 1>\u001b[0;34m()\u001b[0m\n\u001b[0;32m----> 1\u001b[0m inbound_stop_geojson \u001b[38;5;241m=\u001b[39m \u001b[43minbound_stop_details\u001b[49m[\u001b[38;5;124m'\u001b[39m\u001b[38;5;124mgeometry\u001b[39m\u001b[38;5;124m'\u001b[39m]\u001b[38;5;241m.\u001b[39mto_json()\n",
      "\u001b[0;31mNameError\u001b[0m: name 'inbound_stop_details' is not defined"
     ]
    }
   ],
   "source": [
    "inbound_stop_geojson = inbound_stop_details['geometry'].to_json()"
   ]
  },
  {
   "cell_type": "code",
   "execution_count": 22,
   "id": "5781c2af",
   "metadata": {},
   "outputs": [
    {
     "ename": "NameError",
     "evalue": "name 'outbound_stops' is not defined",
     "output_type": "error",
     "traceback": [
      "\u001b[0;31m---------------------------------------------------------------------------\u001b[0m",
      "\u001b[0;31mNameError\u001b[0m                                 Traceback (most recent call last)",
      "Input \u001b[0;32mIn [22]\u001b[0m, in \u001b[0;36m<cell line: 1>\u001b[0;34m()\u001b[0m\n\u001b[0;32m----> 1\u001b[0m outbound_stop_geojson \u001b[38;5;241m=\u001b[39m \u001b[43moutbound_stops\u001b[49m[\u001b[38;5;124m'\u001b[39m\u001b[38;5;124mgeometry\u001b[39m\u001b[38;5;124m'\u001b[39m]\u001b[38;5;241m.\u001b[39mto_json()\n",
      "\u001b[0;31mNameError\u001b[0m: name 'outbound_stops' is not defined"
     ]
    }
   ],
   "source": [
    "outbound_stop_geojson = outbound_stops['geometry'].to_json()"
   ]
  },
  {
   "cell_type": "code",
   "execution_count": null,
   "id": "89edf7ff",
   "metadata": {},
   "outputs": [],
   "source": [
    "slow_am_scho_geojson = slow_am_school['geometry'].to_json()"
   ]
  },
  {
   "cell_type": "code",
   "execution_count": null,
   "id": "43817d0d",
   "metadata": {},
   "outputs": [],
   "source": [
    "slow_am_sum_geojson = slow_am_summer['geometry'].to_json()"
   ]
  },
  {
   "cell_type": "code",
   "execution_count": null,
   "id": "18445db3",
   "metadata": {},
   "outputs": [],
   "source": [
    "slow_emo_scho_geojson = slow_emo_school['geometry'].to_json()"
   ]
  },
  {
   "cell_type": "code",
   "execution_count": null,
   "id": "a9ebb3e4",
   "metadata": {},
   "outputs": [],
   "source": [
    "slow_emo_sum_geojson = slow_emo_summer['geometry'].to_json()"
   ]
  },
  {
   "cell_type": "code",
   "execution_count": null,
   "id": "ef60ee3e",
   "metadata": {},
   "outputs": [],
   "source": [
    "slow_emi_scho_geojson = slow_emi_school['geometry'].to_json()"
   ]
  },
  {
   "cell_type": "code",
   "execution_count": null,
   "id": "89c4eb8c",
   "metadata": {},
   "outputs": [],
   "source": [
    "slow_emi_sum_geojson = slow_emi_summer['geometry'].to_json()"
   ]
  },
  {
   "cell_type": "code",
   "execution_count": null,
   "id": "1df96488",
   "metadata": {},
   "outputs": [],
   "source": [
    "slow_lni_scho_geojson = slow_lni_school['geometry'].to_json()"
   ]
  },
  {
   "cell_type": "code",
   "execution_count": null,
   "id": "5e668ade",
   "metadata": {},
   "outputs": [],
   "source": [
    "slow_lni_sum_geojson = slow_lni_summer['geometry'].to_json()"
   ]
  },
  {
   "cell_type": "code",
   "execution_count": null,
   "id": "a4b9b494",
   "metadata": {},
   "outputs": [],
   "source": []
  },
  {
   "cell_type": "code",
   "execution_count": null,
   "id": "db997e76",
   "metadata": {},
   "outputs": [],
   "source": []
  },
  {
   "cell_type": "code",
   "execution_count": null,
   "id": "bfe7568b",
   "metadata": {},
   "outputs": [],
   "source": [
    "from folium.plugins import MarkerCluster"
   ]
  },
  {
   "cell_type": "markdown",
   "id": "db668a96",
   "metadata": {
    "scrolled": false
   },
   "source": [
    "combined_map = folium.Map(location =  [36.2, -86.7775], zoom_start = 12)\n",
    "\n",
    "#full_route = folium.FeatureGroup(name='Route 23', show=False)\n",
    "\n",
    "stops = folium.FeatureGroup(name='Bus Stops', overlay=True, show=False)\n",
    "\n",
    "#am_in = folium.FeatureGroup(name='Morning Inbound Rush', show=False)\n",
    "#stops.add_to(combined_map)\n",
    "combined_map.add_child(stops)\n",
    "folium.LayerControl(position='topleft', collapsed=False).add_to(combined_map)\n",
    "#combined_map.add_child(folium.map.LayerControl(collapsed=False))\n",
    "\n",
    "style1 = {'color': 'gray', 'weight' : 1}\n",
    "folium.GeoJson(full_route, style_function=lambda x: style1).add_to(combined_map)\n",
    "\n",
    "style2 = {'color': 'red', 'weight' : 6}\n",
    "folium.GeoJson(slow_am_scho_geojson, style_function=lambda x: style2).add_to(combined_map)\n",
    "\n",
    "style3 = {'color': 'blue', 'weight' : 3}\n",
    "folium.GeoJson(slow_am_sum_geojson, style_function=lambda x: style3).add_to(combined_map)\n",
    "\n",
    "for row_index, row_values in stop_details.iterrows():\n",
    "    loc = [row_values['geometry'].y, row_values['geometry'].x]\n",
    "    pop = str(row_values['stopName'])\n",
    "    icon= folium.Icon(color=\"gray\",icon=\"bus\", prefix='fa')\n",
    "    \n",
    "    marker = folium.Marker(\n",
    "        location = loc, \n",
    "        popup = pop, \n",
    "        icon = icon) \n",
    "\n",
    "    marker.add_to(stops)\n",
    "\n",
    "    \n",
    "combined_map"
   ]
  },
  {
   "cell_type": "code",
   "execution_count": null,
   "id": "98692e1b",
   "metadata": {},
   "outputs": [],
   "source": [
    "folium.LayerControl(position='topleft', collapsed=False).add_to(combined_map)\n",
    "style1 = {'color': 'gray', 'weight' : 2}\n",
    "style2 = {'color': 'red', 'weight' : 6}\n",
    "style3 = {'color': 'blue', 'weight' : 3}\n",
    "folium.GeoJson(route_details_json, style_function=lambda x: style1).add_to(route_details_map)\n",
    "folium.GeoJson(slow_am_scho_geojson, style_function=lambda x: style2).add_to(am_in)\n",
    "folium.GeoJson(slow_am_sum_geojson, style_function=lambda x: style3).add_to(am_in)\n",
    "folium.GeoJson(slow_pmr_inschool.set_crs(\"EPSG:4326\"), style_function=lambda x: style2).add_to(pm_ou)\n",
    "folium.GeoJson(slow_pmr_summer.set_crs(\"EPSG:4326\"), style_function=lambda x: style3).add_to(pm_ou)\n",
    "folium.GeoJson(slow_emi_scho_geojson, style_function=lambda x: style2).add_to(em_in)\n",
    "folium.GeoJson(slow_emi_sum_geojson, style_function=lambda x: style3).add_to(em_in)\n",
    "folium.GeoJson(slow_emo_scho_geojson, style_function=lambda x: style2).add_to(em_ou)\n",
    "folium.GeoJson(slow_emo_sum_geojson, style_function=lambda x: style3).add_to(em_ou)\n",
    "folium.GeoJson(slow_offpin_inschool.set_crs(\"EPSG:4326\"), style_function=lambda x: style2).add_to(opd_in)\n",
    "folium.GeoJson(slow_offpin_inschool.set_crs(\"EPSG:4326\"), style_function=lambda x: style3).add_to(opd_in)\n",
    "folium.GeoJson(slow_do_in_school.set_crs(\"EPSG:4326\"), style_function=lambda x: style2).add_to(opd_ou)\n",
    "folium.GeoJson(slow_do_summer.set_crs(\"EPSG:4326\"), style_function=lambda x: style3).add_to(opd_ou)\n",
    "folium.GeoJson(slow_lni_scho_geojson, style_function=lambda x: style2).add_to(ln_in)\n",
    "folium.GeoJson(slow_lni_sum_geojson, style_function=lambda x: style3).add_to(ln_in)\n",
    "folium.GeoJson(slow_lno_inschool.set_crs(\"EPSG:4326\"), style_function=lambda x: style2).add_to(pm_ou)\n",
    "folium.GeoJson(slow_lno_summer.set_crs(\"EPSG:4326\"), style_function=lambda x: style3).add_to(pm_ou)\n",
    "for row_index, row_values in inbound_stop_details.iterrows():\n",
    "    loc = [row_values['geometry'].y, row_values['geometry'].x]\n",
    "    pop = str(row_values['stopName'])\n",
    "    icon= folium.Icon(color=\"gray\",icon=\"bus\", prefix='fa')\n",
    "    marker = folium.Marker(\n",
    "        location = loc,\n",
    "        popup = pop,\n",
    "        icon = icon)\n",
    "    marker.add_to(stops_in)\n",
    "for row_index, row_values in outbound_stops.iterrows():\n",
    "    loc = [row_values['geometry'].y, row_values['geometry'].x]\n",
    "    pop = str(row_values['stopName'])\n",
    "    icon= folium.Icon(color=\"gray\",icon=\"bus\", prefix='fa')\n",
    "    marker = folium.Marker(\n",
    "        location = loc,\n",
    "        popup = pop,\n",
    "        icon = icon)\n",
    "    marker.add_to(stops_out)\n",
    "combined_map"
   ]
  },
  {
   "cell_type": "code",
   "execution_count": null,
   "id": "623679c8",
   "metadata": {},
   "outputs": [],
   "source": []
  }
 ],
 "metadata": {
  "kernelspec": {
   "display_name": "Python 3 (ipykernel)",
   "language": "python",
   "name": "python3"
  },
  "language_info": {
   "codemirror_mode": {
    "name": "ipython",
    "version": 3
   },
   "file_extension": ".py",
   "mimetype": "text/x-python",
   "name": "python",
   "nbconvert_exporter": "python",
   "pygments_lexer": "ipython3",
   "version": "3.8.5"
  }
 },
 "nbformat": 4,
 "nbformat_minor": 5
}
