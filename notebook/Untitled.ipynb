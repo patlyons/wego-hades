{
 "cells": [
  {
   "cell_type": "code",
   "execution_count": 23,
   "id": "c5564192",
   "metadata": {},
   "outputs": [],
   "source": [
    "import requests\n",
    "import json\n",
    "import pandas as pd\n",
    "import numpy as np\n",
    "from shapely.geometry import Point\n",
    "import geopandas as gpd\n",
    "import matplotlib.pyplot as plt\n",
    "import folium\n",
    "import re\n",
    "from folium.plugins import MarkerCluster\n",
    "from folium.plugins import FastMarkerCluster\n",
    "import shapely.wkt\n",
    "\n",
    "%matplotlib inline"
   ]
  },
  {
   "cell_type": "code",
   "execution_count": 24,
   "id": "bca75b37",
   "metadata": {},
   "outputs": [],
   "source": [
    "def concat_frames_columns_do(geo_response, response, date_range, time_range='9am-2:30pm', days='m-f', in_or_out='outbound'):\n",
    "    \"\"\"This function pulls in two API requests, puts one in a geodataframe the other in a dataframe and concats desired columns\"\"\"\n",
    "    geo_df = gpd.GeoDataFrame.from_features(geo_response.json()['features'])\n",
    "    res_df = pd.DataFrame(response.json()['data']['segments'])\n",
    "    full_df = pd.concat([geo_df, res_df[['countForSegment', 'percent20Secs']]], axis = 1)\n",
    "    full_df['dates'] = date_range\n",
    "    full_df['time'] = time_range\n",
    "    full_df['days_of_week'] = days\n",
    "    full_df['direction']= in_or_out\n",
    "    full_df['max_seg_count'] = full_df['countForSegment'].max()\n",
    "    full_df['proportion_of_segments'] = full_df['countForSegment']/full_df['max_seg_count']\n",
    "    return full_df"
   ]
  },
  {
   "cell_type": "code",
   "execution_count": 25,
   "id": "ac341bac",
   "metadata": {},
   "outputs": [],
   "source": [
    "with open('../data/WeGo.json') as fi:\n",
    "    credentials = json.load(fi)"
   ]
  },
  {
   "cell_type": "code",
   "execution_count": 26,
   "id": "78c39b56",
   "metadata": {},
   "outputs": [],
   "source": [
    "Authorization = credentials['Authorization']"
   ]
  },
  {
   "cell_type": "code",
   "execution_count": 39,
   "id": "20ec30dd",
   "metadata": {},
   "outputs": [],
   "source": [
    "URL = 'https://api.goswift.ly/speed-map/nashville/route/23'\n",
    "\n",
    "params_geo1 = {\n",
    "    'direction': '0',\n",
    "    'startDate': '01-25-2022',\n",
    "    'endDate'  : '02-24-2022',\n",
    "    'beginTime' : '09:00',\n",
    "    'endTime' :  '02:30',\n",
    "    'daysOfWeek' : '1,5',\n",
    "    'format' : 'geojson',\n",
    "    'resolution': 'hiRes',\n",
    "}\n",
    "\n",
    "headers = {'Authorization': Authorization,\n",
    "          'Content-Type': 'application/json'}"
   ]
  },
  {
   "cell_type": "code",
   "execution_count": 40,
   "id": "9a99610b",
   "metadata": {},
   "outputs": [],
   "source": [
    "response_geo1 = requests.get(URL, params = params_geo1, headers = headers)"
   ]
  },
  {
   "cell_type": "code",
   "execution_count": 41,
   "id": "bf0bd697",
   "metadata": {},
   "outputs": [
    {
     "data": {
      "text/plain": [
       "<Response [200]>"
      ]
     },
     "execution_count": 41,
     "metadata": {},
     "output_type": "execute_result"
    }
   ],
   "source": [
    "response_geo1"
   ]
  },
  {
   "cell_type": "code",
   "execution_count": 42,
   "id": "501eca30",
   "metadata": {},
   "outputs": [],
   "source": [
    "response23_out_nine = response_geo1.json()['features']"
   ]
  },
  {
   "cell_type": "code",
   "execution_count": 43,
   "id": "83c55f3d",
   "metadata": {
    "scrolled": true
   },
   "outputs": [
    {
     "data": {
      "text/html": [
       "<div>\n",
       "<style scoped>\n",
       "    .dataframe tbody tr th:only-of-type {\n",
       "        vertical-align: middle;\n",
       "    }\n",
       "\n",
       "    .dataframe tbody tr th {\n",
       "        vertical-align: top;\n",
       "    }\n",
       "\n",
       "    .dataframe thead th {\n",
       "        text-align: right;\n",
       "    }\n",
       "</style>\n",
       "<table border=\"1\" class=\"dataframe\">\n",
       "  <thead>\n",
       "    <tr style=\"text-align: right;\">\n",
       "      <th></th>\n",
       "    </tr>\n",
       "  </thead>\n",
       "  <tbody>\n",
       "  </tbody>\n",
       "</table>\n",
       "</div>"
      ],
      "text/plain": [
       "Empty GeoDataFrame\n",
       "Columns: []\n",
       "Index: []"
      ]
     },
     "execution_count": 43,
     "metadata": {},
     "output_type": "execute_result"
    }
   ],
   "source": [
    "inbound23_gdf = gpd.GeoDataFrame.from_features(response23_out_nine)\n",
    "inbound23_gdf"
   ]
  },
  {
   "cell_type": "code",
   "execution_count": 11,
   "id": "730ded21",
   "metadata": {},
   "outputs": [],
   "source": [
    "response = requests.get(URL, params = params, headers = headers)"
   ]
  },
  {
   "cell_type": "code",
   "execution_count": 12,
   "id": "d57cd17e",
   "metadata": {},
   "outputs": [
    {
     "data": {
      "text/plain": [
       "<Response [200]>"
      ]
     },
     "execution_count": 12,
     "metadata": {},
     "output_type": "execute_result"
    }
   ],
   "source": [
    "response"
   ]
  },
  {
   "cell_type": "code",
   "execution_count": 13,
   "id": "f305d37f",
   "metadata": {},
   "outputs": [],
   "source": [
    "response23_i = response_geo.json()['features']"
   ]
  },
  {
   "cell_type": "code",
   "execution_count": 15,
   "id": "3389130c",
   "metadata": {},
   "outputs": [
    {
     "ename": "TypeError",
     "evalue": "list indices must be integers or slices, not str",
     "output_type": "error",
     "traceback": [
      "\u001b[0;31m---------------------------------------------------------------------------\u001b[0m",
      "\u001b[0;31mTypeError\u001b[0m                                 Traceback (most recent call last)",
      "Input \u001b[0;32mIn [15]\u001b[0m, in \u001b[0;36m<cell line: 1>\u001b[0;34m()\u001b[0m\n\u001b[0;32m----> 1\u001b[0m inbound_23_df \u001b[38;5;241m=\u001b[39m pd\u001b[38;5;241m.\u001b[39mDataFrame(\u001b[43mresponse23_i\u001b[49m\u001b[43m[\u001b[49m\u001b[38;5;124;43m'\u001b[39;49m\u001b[38;5;124;43mdata\u001b[39;49m\u001b[38;5;124;43m'\u001b[39;49m\u001b[43m]\u001b[49m[\u001b[38;5;124m'\u001b[39m\u001b[38;5;124msegments\u001b[39m\u001b[38;5;124m'\u001b[39m])\n\u001b[1;32m      2\u001b[0m inbound_23_df\u001b[38;5;241m.\u001b[39msort_values(\u001b[38;5;124m'\u001b[39m\u001b[38;5;124mpathLengthMeters\u001b[39m\u001b[38;5;124m'\u001b[39m)\n",
      "\u001b[0;31mTypeError\u001b[0m: list indices must be integers or slices, not str"
     ]
    }
   ],
   "source": [
    "inbound_23_df = pd.DataFrame(response['data']['segments'])\n",
    "inbound_23_df.sort_values('pathLengthMeters')"
   ]
  },
  {
   "cell_type": "code",
   "execution_count": null,
   "id": "33f80a40",
   "metadata": {},
   "outputs": [],
   "source": []
  },
  {
   "cell_type": "code",
   "execution_count": null,
   "id": "28fd221f",
   "metadata": {},
   "outputs": [],
   "source": []
  },
  {
   "cell_type": "code",
   "execution_count": null,
   "id": "11c4c1ea",
   "metadata": {},
   "outputs": [],
   "source": [
    "params"
   ]
  },
  {
   "cell_type": "code",
   "execution_count": null,
   "id": "30b45a26",
   "metadata": {},
   "outputs": [],
   "source": [
    "in scool _df\n"
   ]
  },
  {
   "cell_type": "code",
   "execution_count": null,
   "id": "ec7fab38",
   "metadata": {},
   "outputs": [],
   "source": [
    "concat data frames"
   ]
  },
  {
   "cell_type": "code",
   "execution_count": null,
   "id": "1c6ab2fd",
   "metadata": {},
   "outputs": [],
   "source": [
    " .describe  20th cercentile min row"
   ]
  }
 ],
 "metadata": {
  "kernelspec": {
   "display_name": "Python 3 (ipykernel)",
   "language": "python",
   "name": "python3"
  },
  "language_info": {
   "codemirror_mode": {
    "name": "ipython",
    "version": 3
   },
   "file_extension": ".py",
   "mimetype": "text/x-python",
   "name": "python",
   "nbconvert_exporter": "python",
   "pygments_lexer": "ipython3",
   "version": "3.8.5"
  }
 },
 "nbformat": 4,
 "nbformat_minor": 5
}
